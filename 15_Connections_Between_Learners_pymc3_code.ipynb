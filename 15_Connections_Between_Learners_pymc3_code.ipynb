{
 "cells": [
  {
   "cell_type": "code",
   "execution_count": null,
   "metadata": {},
   "outputs": [],
   "source": [
    "from mlwpy import *\n",
    "import pymc3 as pm\n",
    "\n",
    "# getting really hard to convince toolkits to be less verbose\n",
    "import logging\n",
    "pymc3_log = logging.getLogger('pymc3')\n",
    "pymc3_log.setLevel(2**20)"
   ]
  },
  {
   "cell_type": "code",
   "execution_count": null,
   "metadata": {},
   "outputs": [],
   "source": [
    "# copied this here to allow for kernel restrating after prior cell\n",
    "linreg_ftrs_p1 = np.c_[np.arange(10), np.ones(10)] # +1 trick in data\n",
    "\n",
    "true_wgts  = m,b = w_1, w_0 = 3,2\n",
    "linreg_tgt = rdot(true_wgts, linreg_ftrs_p1)\n",
    "\n",
    "linreg_table = pd.DataFrame(linreg_ftrs_p1, \n",
    "                            columns=['ftr_1', 'ones'])\n",
    "linreg_table['tgt'] = linreg_tgt\n",
    "linreg_table[:3]"
   ]
  },
  {
   "cell_type": "code",
   "execution_count": null,
   "metadata": {},
   "outputs": [],
   "source": [
    "# copied from other notebook\n",
    "logreg_ftr = np.random.uniform(5,15, size=(100,))\n",
    "\n",
    "true_wgts  = m,b = -2, 20\n",
    "line_of_logodds = m*logreg_ftr + b\n",
    "prob_at_x = np.exp(line_of_logodds) / (1 + np.exp(line_of_logodds))\n",
    "\n",
    "logreg_tgt = np.random.binomial(1, prob_at_x, len(logreg_ftr))\n",
    "\n",
    "logreg_ftrs_p1 = np.c_[logreg_ftr,\n",
    "                       np.ones_like(logreg_ftr)]\n",
    "\n",
    "logreg_table = pd.DataFrame(logreg_ftrs_p1, \n",
    "                            columns=['ftr_1','ones'])\n",
    "logreg_table['tgt'] = logreg_tgt\n",
    "display(logreg_table.head())"
   ]
  },
  {
   "cell_type": "code",
   "execution_count": null,
   "metadata": {},
   "outputs": [],
   "source": [
    "with pm.Model() as model:\n",
    "    # boilder plate-ish setup of the distributions of our \n",
    "    # guesses for things we don't know\n",
    "    sd      = pm.HalfNormal('sd', sd=1)\n",
    "    intercept  = pm.Normal('Intercept', 0, sd=20)\n",
    "    ftr_1_wgt  = pm.Normal('ftr_1_wgt', 0, sd=20)\n",
    "\n",
    "    # outcomes made from inital guess and input data\n",
    "    # this is y = m x + b in an alternate form\n",
    "    preds = ftr_1_wgt * linreg_table['ftr_1'] + intercept \n",
    "\n",
    "    # relationship between guesses, input data, and actual outputs\n",
    "    # target = preds + noise(sd)  (noise == tolerance around the line)\n",
    "    target = pm.Normal('tgt', \n",
    "                       mu=preds, sd=sd, \n",
    "                       observed=linreg_table['tgt'])\n",
    "\n",
    "    linreg_trace = pm.sample(1000, progressbar=False)"
   ]
  },
  {
   "cell_type": "code",
   "execution_count": null,
   "metadata": {},
   "outputs": [],
   "source": [
    "pm.summary(linreg_trace)[['mean']]"
   ]
  },
  {
   "cell_type": "code",
   "execution_count": null,
   "metadata": {},
   "outputs": [],
   "source": [
    "with pm.Model() as model:\n",
    "    pm.glm.GLM.from_formula('tgt ~ ftr_1', linreg_table,\n",
    "                           family=pm.glm.families.Normal())\n",
    "    linreg_trace = pm.sample(5000, progressbar=False)\n",
    "pm.summary(linreg_trace)[['mean']]"
   ]
  },
  {
   "cell_type": "code",
   "execution_count": null,
   "metadata": {},
   "outputs": [],
   "source": [
    "pm.traceplot(linreg_trace);"
   ]
  },
  {
   "cell_type": "code",
   "execution_count": null,
   "metadata": {},
   "outputs": [],
   "source": [
    "with pm.Model() as model:\n",
    "    pm.glm.GLM.from_formula('tgt ~ ftr_1', logreg_table, \n",
    "                            family=pm.glm.families.Binomial())\n",
    "    logreg_trace = pm.sample(10000, progressbar=False)\n",
    "pm.summary(logreg_trace)[['mean']]"
   ]
  },
  {
   "cell_type": "code",
   "execution_count": null,
   "metadata": {},
   "outputs": [],
   "source": [
    "%matplotlib inline\n",
    "\n",
    "df_trace = pm.trace_to_dataframe(logreg_trace)\n",
    "sns.jointplot('ftr_1', 'Intercept', data=df_trace, \n",
    "              kind='kde', stat_func=None, height=4);"
   ]
  }
 ],
 "metadata": {},
 "nbformat": 4,
 "nbformat_minor": 2
}
